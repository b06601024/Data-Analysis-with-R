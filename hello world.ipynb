{
 "cells": [
  {
   "cell_type": "markdown",
   "id": "ea172271-c707-4ce8-9a12-52ebb9f780aa",
   "metadata": {},
   "source": [
    "# Hello World!"
   ]
  },
  {
   "cell_type": "code",
   "execution_count": 9,
   "id": "0a9d9ca1-61c3-43c3-9296-4e32cb52f074",
   "metadata": {},
   "outputs": [
    {
     "name": "stdout",
     "output_type": "stream",
     "text": [
      "[1] \"Hello World!\"\n"
     ]
    }
   ],
   "source": [
    "print(\"Hello World!\")"
   ]
  },
  {
   "cell_type": "markdown",
   "id": "8997bf58-44d3-410c-a19d-23a19376b5b4",
   "metadata": {},
   "source": [
    "##### There are 6 primary types in atomic vectors which are Logical,integers,doubles,character"
   ]
  },
  {
   "cell_type": "code",
   "execution_count": 13,
   "id": "2d8e8da7-6ab7-4836-9ded-a15b37e50a51",
   "metadata": {},
   "outputs": [],
   "source": [
    "ints_vec <- c(1L,2L,3.0)\n",
    "string_vec <- c(\"Bryan\",\"Isaac\",\"Timothy\")\n",
    "double_vec <- c(1.1,2.2,3.3)\n",
    "numeric_vec <- c(1.1,2,3)\n",
    "boolean_vec <- c(TRUE,FALSE,TRUE)"
   ]
  },
  {
   "cell_type": "code",
   "execution_count": 14,
   "id": "1b54a255-5e9d-4e56-b711-6999b0a74585",
   "metadata": {},
   "outputs": [
    {
     "name": "stdout",
     "output_type": "stream",
     "text": [
      "[1] 1 2 3\n",
      "[1] \"Bryan\"   \"Isaac\"   \"Timothy\"\n",
      "[1] 1.1 2.2 3.3\n",
      "[1] 1.1 2.0 3.0\n",
      "[1]  TRUE FALSE  TRUE\n"
     ]
    }
   ],
   "source": [
    "print(ints_vec)\n",
    "print(string_vec)\n",
    "print(double_vec)\n",
    "print(numeric_vec)\n",
    "print(boolean_vec)"
   ]
  },
  {
   "cell_type": "code",
   "execution_count": 15,
   "id": "ce19bd8e-bff6-4b58-b1e0-ed630d037de9",
   "metadata": {},
   "outputs": [
    {
     "data": {
      "text/html": [
       "<dl class=dl-horizontal>\n",
       "\t<dt>a</dt>\n",
       "\t\t<dd>1</dd>\n",
       "\t<dt>b</dt>\n",
       "\t\t<dd>2</dd>\n",
       "\t<dt>c</dt>\n",
       "\t\t<dd>3</dd>\n",
       "</dl>\n"
      ],
      "text/latex": [
       "\\begin{description*}\n",
       "\\item[a] 1\n",
       "\\item[b] 2\n",
       "\\item[c] 3\n",
       "\\end{description*}\n"
      ],
      "text/markdown": [
       "a\n",
       ":   1b\n",
       ":   2c\n",
       ":   3\n",
       "\n"
      ],
      "text/plain": [
       "a b c \n",
       "1 2 3 "
      ]
     },
     "metadata": {},
     "output_type": "display_data"
    }
   ],
   "source": [
    "int_vec <- c(1L,2L,3L)  #numeric, string, logical\n",
    "names(int_vec) <- c(\"a\",\"b\",\"c\")  #use names() to give name to each element of the vector\n",
    "int_vec"
   ]
  },
  {
   "cell_type": "code",
   "execution_count": 16,
   "id": "05c60bcf-e4c6-4a45-a190-68764df462b1",
   "metadata": {},
   "outputs": [
    {
     "data": {
      "text/html": [
       "<dl class=dl-horizontal>\n",
       "\t<dt>first_element_in_a</dt>\n",
       "\t\t<dd>1</dd>\n",
       "\t<dt>b</dt>\n",
       "\t\t<dd>2</dd>\n",
       "\t<dt>c</dt>\n",
       "\t\t<dd>3</dd>\n",
       "\t<dt>d</dt>\n",
       "\t\t<dd>4</dd>\n",
       "\t<dt>e</dt>\n",
       "\t\t<dd>5</dd>\n",
       "</dl>\n"
      ],
      "text/latex": [
       "\\begin{description*}\n",
       "\\item[first\\textbackslash{}\\_element\\textbackslash{}\\_in\\textbackslash{}\\_a] 1\n",
       "\\item[b] 2\n",
       "\\item[c] 3\n",
       "\\item[d] 4\n",
       "\\item[e] 5\n",
       "\\end{description*}\n"
      ],
      "text/markdown": [
       "first_element_in_a\n",
       ":   1b\n",
       ":   2c\n",
       ":   3d\n",
       ":   4e\n",
       ":   5\n",
       "\n"
      ],
      "text/plain": [
       "first_element_in_a                  b                  c                  d \n",
       "                 1                  2                  3                  4 \n",
       "                 e \n",
       "                 5 "
      ]
     },
     "metadata": {},
     "output_type": "display_data"
    }
   ],
   "source": [
    "a <- c(1,2,3,4,5)\n",
    "names(a) <- c(\"first_element_in_a\", \"b\", \"c\",\"d\",\"e\")\n",
    "a"
   ]
  },
  {
   "cell_type": "code",
   "execution_count": 17,
   "id": "93f86975-d885-4fc1-bc6b-756bac96e8fa",
   "metadata": {},
   "outputs": [
    {
     "name": "stdout",
     "output_type": "stream",
     "text": [
      "List of 5\n",
      " $ : logi TRUE\n",
      " $ : logi FALSE\n",
      " $ : int 1\n",
      " $ : num 3.1\n",
      " $ : chr \"character\"\n"
     ]
    }
   ],
   "source": [
    "b <- c(TRUE,FALSE,1L, 3.1, \"character\")\n",
    "b <- list(TRUE,FALSE,1L, 3.1,\"character\")\n",
    "str(b)"
   ]
  },
  {
   "cell_type": "code",
   "execution_count": 18,
   "id": "ac1a33c0-03f8-4c2a-a0f7-47c6485bed3a",
   "metadata": {},
   "outputs": [
    {
     "name": "stdout",
     "output_type": "stream",
     "text": [
      "List of 1\n",
      " $ :List of 5\n",
      "  ..$ : num 2\n",
      "  ..$ : num 3\n",
      "  ..$ : num 4.5\n",
      "  ..$ : chr \"characters\"\n",
      "  ..$ :List of 3\n",
      "  .. ..$ : num 1\n",
      "  .. ..$ : num 2\n",
      "  .. ..$ : num 3\n"
     ]
    },
    {
     "data": {
      "text/html": [
       "4.5"
      ],
      "text/latex": [
       "4.5"
      ],
      "text/markdown": [
       "4.5"
      ],
      "text/plain": [
       "[1] 4.5"
      ]
     },
     "metadata": {},
     "output_type": "display_data"
    },
    {
     "data": {
      "text/html": [
       "4.5"
      ],
      "text/latex": [
       "4.5"
      ],
      "text/markdown": [
       "4.5"
      ],
      "text/plain": [
       "[1] 4.5"
      ]
     },
     "metadata": {},
     "output_type": "display_data"
    }
   ],
   "source": [
    "#Naming Lists\n",
    "c <- list(list(2,3,\"abc\" <- 4.5,\"characters\",list(1,2,3)))\n",
    "str(c)  #To determine the structure of the lists\n",
    "abc     #Call the list that named abc\n",
    "c(abc)  #It "
   ]
  },
  {
   "cell_type": "code",
   "execution_count": 19,
   "id": "5704f674-5acf-4940-87f7-9132a0149196",
   "metadata": {},
   "outputs": [],
   "source": [
    "vec_logical <- c(TRUE,FALSE,TRUE,FALSE) #True\n",
    "vec_integer <- c(1L,2L,3L)   #True\n",
    "vec_numeric <- c(1,2,3,4)   #True\n",
    "vec_character <- c(\"a\",\"z\",\"m\",TRUE) #True"
   ]
  },
  {
   "cell_type": "code",
   "execution_count": 20,
   "id": "afc8388c-5c0e-4f02-b331-7344d30f6e5d",
   "metadata": {},
   "outputs": [
    {
     "data": {
      "text/html": [
       "TRUE"
      ],
      "text/latex": [
       "TRUE"
      ],
      "text/markdown": [
       "TRUE"
      ],
      "text/plain": [
       "[1] TRUE"
      ]
     },
     "metadata": {},
     "output_type": "display_data"
    },
    {
     "data": {
      "text/html": [
       "TRUE"
      ],
      "text/latex": [
       "TRUE"
      ],
      "text/markdown": [
       "TRUE"
      ],
      "text/plain": [
       "[1] TRUE"
      ]
     },
     "metadata": {},
     "output_type": "display_data"
    },
    {
     "data": {
      "text/html": [
       "TRUE"
      ],
      "text/latex": [
       "TRUE"
      ],
      "text/markdown": [
       "TRUE"
      ],
      "text/plain": [
       "[1] TRUE"
      ]
     },
     "metadata": {},
     "output_type": "display_data"
    },
    {
     "data": {
      "text/html": [
       "TRUE"
      ],
      "text/latex": [
       "TRUE"
      ],
      "text/markdown": [
       "TRUE"
      ],
      "text/plain": [
       "[1] TRUE"
      ]
     },
     "metadata": {},
     "output_type": "display_data"
    }
   ],
   "source": [
    "is.logical(vec_logical)\n",
    "is.integer(vec_integer)\n",
    "is.numeric(vec_numeric)\n",
    "is.character(vec_character)"
   ]
  },
  {
   "cell_type": "code",
   "execution_count": null,
   "id": "876a77cc-aebe-4ee0-bef1-b7ddc9547144",
   "metadata": {},
   "outputs": [],
   "source": []
  }
 ],
 "metadata": {
  "kernelspec": {
   "display_name": "R",
   "language": "R",
   "name": "ir"
  },
  "language_info": {
   "codemirror_mode": "r",
   "file_extension": ".r",
   "mimetype": "text/x-r-source",
   "name": "R",
   "pygments_lexer": "r",
   "version": "3.6.1"
  }
 },
 "nbformat": 4,
 "nbformat_minor": 5
}
